{
 "cells": [
  {
   "cell_type": "markdown",
   "metadata": {},
   "source": [
    "# Testing `Fortran` implementation"
   ]
  },
  {
   "cell_type": "markdown",
   "metadata": {},
   "source": []
  },
  {
   "cell_type": "code",
   "execution_count": 1,
   "metadata": {},
   "outputs": [],
   "source": [
    "import sys\n",
    "sys.path.insert(1, '../')\n",
    "\n",
    "import numpy as np\n",
    "import matplotlib.pyplot as plt\n",
    "from scipy import sparse\n",
    "from scipy.sparse.linalg import eigsh\n",
    "\n",
    "import hamiltonians as ham\n",
    "import physical_constants as const\n",
    "import bethe_salpeter_equation as bse\n",
    "\n",
    "\n",
    "from potential import rytova_keldysh"
   ]
  },
  {
   "cell_type": "markdown",
   "metadata": {},
   "source": [
    "## Comparing with the pure Python (Numba)"
   ]
  },
  {
   "cell_type": "code",
   "execution_count": 3,
   "metadata": {},
   "outputs": [
    {
     "name": "stdout",
     "output_type": "stream",
     "text": [
      "build_potential_matrix\n",
      "epsilon_0\n",
      "pi\n",
      "potential_average\n",
      "vkk_const\n"
     ]
    }
   ],
   "source": [
    "for method in dir(rytova_keldysh):\n",
    "    if method[0] != '_': print(method)"
   ]
  },
  {
   "cell_type": "code",
   "execution_count": 13,
   "metadata": {},
   "outputs": [],
   "source": [
    "a = rytova_keldysh.pi # IT WILL BE ACCESSIBLE ONLY WHEN THE WHOLE MODULE IS \"PUBLIC\""
   ]
  },
  {
   "cell_type": "code",
   "execution_count": 20,
   "metadata": {},
   "outputs": [
    {
     "data": {
      "text/plain": [
       "3.1415927"
      ]
     },
     "execution_count": 20,
     "metadata": {},
     "output_type": "execute_result"
    }
   ],
   "source": [
    "a[()] # THIS IS THE WAY TO ACCESS 0-DIMENSIONAL ARRAY VALUES"
   ]
  },
  {
   "cell_type": "code",
   "execution_count": 21,
   "metadata": {},
   "outputs": [],
   "source": [
    "n_mesh = 6\n",
    "n_sub  = 6\n",
    "kmax   = 5\n",
    "kx     = np.linspace(-kmax,kmax,n_mesh)"
   ]
  },
  {
   "cell_type": "code",
   "execution_count": 22,
   "metadata": {},
   "outputs": [],
   "source": [
    "dk  = kx[1] - kx[0]\n",
    "dk2 = dk**2\n",
    "eps = 1.\n",
    "r_0 = 5.\n",
    "V_orig = ham.Rytova_Keldysh(dk2, r_0, eps) "
   ]
  },
  {
   "cell_type": "code",
   "execution_count": 23,
   "metadata": {},
   "outputs": [
    {
     "data": {
      "text/plain": [
       "-316.69588140364453"
      ]
     },
     "execution_count": 23,
     "metadata": {},
     "output_type": "execute_result"
    }
   ],
   "source": [
    "bse.potential_average(V_orig, np.array([0.,0.]), n_sub, 200)"
   ]
  },
  {
   "cell_type": "code",
   "execution_count": 24,
   "metadata": {},
   "outputs": [],
   "source": [
    "Vkk_const = -(1e6/(2*const.EPSILON_0)) * dk2/(2*np.pi)**2"
   ]
  },
  {
   "cell_type": "code",
   "execution_count": 25,
   "metadata": {},
   "outputs": [],
   "source": [
    "v_fortran = rytova_keldysh.potential_average(0.,0., dk,n_sub, eps, r_0)"
   ]
  },
  {
   "cell_type": "code",
   "execution_count": 26,
   "metadata": {},
   "outputs": [
    {
     "data": {
      "text/plain": [
       "-316.69583226495763"
      ]
     },
     "execution_count": 26,
     "metadata": {},
     "output_type": "execute_result"
    }
   ],
   "source": [
    "v_fortran * Vkk_const"
   ]
  },
  {
   "cell_type": "code",
   "execution_count": 27,
   "metadata": {
    "scrolled": true
   },
   "outputs": [
    {
     "name": "stdout",
     "output_type": "stream",
     "text": [
      "mean_pot = potential_average(k_x,k_y,delta_k,n_sub,eps,r_0)\n",
      "\n",
      "Wrapper for ``potential_average``.\n",
      "\n",
      "Parameters\n",
      "----------\n",
      "k_x : input float\n",
      "k_y : input float\n",
      "delta_k : input float\n",
      "n_sub : input int\n",
      "eps : input float\n",
      "r_0 : input float\n",
      "\n",
      "Returns\n",
      "-------\n",
      "mean_pot : float\n",
      "\n"
     ]
    }
   ],
   "source": [
    "print(rytova_keldysh.potential_average.__doc__)"
   ]
  },
  {
   "cell_type": "code",
   "execution_count": 10,
   "metadata": {},
   "outputs": [],
   "source": [
    "def pot_ave(kx,ky,dk,nsub,eps,r_0):\n",
    "    dk_sub = dk/(nsub-1)\n",
    "    kx_ini = kx-dk/2\n",
    "    ky_ini = ky-dk/2\n",
    "    Ntotal = nsub**2\n",
    "    v_sum = 0\n",
    "    \n",
    "    for i in range(nsub):\n",
    "#         ky_sweep = ky_ini\n",
    "        kx_sweep = kx_ini + i*dk_sub\n",
    "#         print('kx_sweep = ', kx_sweep)\n",
    "#         print('{} x {} = {}'.format(i,dk_sub,i*dk_sub))\n",
    "        print('')\n",
    "        for j in range(nsub):\n",
    "            ky_sweep = ky_ini + j*dk_sub\n",
    "            print('ky_sweep = ', ky_sweep)\n",
    "            knorm = np.sqrt(kx_sweep**2+ky_sweep**2)\n",
    "            if (knorm != 0):\n",
    "                v_sum = v_sum + 1/(eps*knorm + r_0*knorm**2)\n",
    "            else:\n",
    "                Ntotal = Ntotal-1\n",
    "    \n",
    "    return v_sum/Ntotal"
   ]
  },
  {
   "cell_type": "code",
   "execution_count": 11,
   "metadata": {},
   "outputs": [
    {
     "name": "stdout",
     "output_type": "stream",
     "text": [
      "\n",
      "ky_sweep =  -1.0\n",
      "ky_sweep =  -0.6\n",
      "ky_sweep =  -0.19999999999999996\n",
      "ky_sweep =  0.20000000000000018\n",
      "ky_sweep =  0.6000000000000001\n",
      "ky_sweep =  1.0\n",
      "\n",
      "ky_sweep =  -1.0\n",
      "ky_sweep =  -0.6\n",
      "ky_sweep =  -0.19999999999999996\n",
      "ky_sweep =  0.20000000000000018\n",
      "ky_sweep =  0.6000000000000001\n",
      "ky_sweep =  1.0\n",
      "\n",
      "ky_sweep =  -1.0\n",
      "ky_sweep =  -0.6\n",
      "ky_sweep =  -0.19999999999999996\n",
      "ky_sweep =  0.20000000000000018\n",
      "ky_sweep =  0.6000000000000001\n",
      "ky_sweep =  1.0\n",
      "\n",
      "ky_sweep =  -1.0\n",
      "ky_sweep =  -0.6\n",
      "ky_sweep =  -0.19999999999999996\n",
      "ky_sweep =  0.20000000000000018\n",
      "ky_sweep =  0.6000000000000001\n",
      "ky_sweep =  1.0\n",
      "\n",
      "ky_sweep =  -1.0\n",
      "ky_sweep =  -0.6\n",
      "ky_sweep =  -0.19999999999999996\n",
      "ky_sweep =  0.20000000000000018\n",
      "ky_sweep =  0.6000000000000001\n",
      "ky_sweep =  1.0\n",
      "\n",
      "ky_sweep =  -1.0\n",
      "ky_sweep =  -0.6\n",
      "ky_sweep =  -0.19999999999999996\n",
      "ky_sweep =  0.20000000000000018\n",
      "ky_sweep =  0.6000000000000001\n",
      "ky_sweep =  1.0\n"
     ]
    },
    {
     "data": {
      "text/plain": [
       "316.69588140364436"
      ]
     },
     "execution_count": 11,
     "metadata": {},
     "output_type": "execute_result"
    }
   ],
   "source": [
    "-Vkk_const*pot_ave(0.,0., dk,n_sub, eps, r_0)"
   ]
  },
  {
   "cell_type": "code",
   "execution_count": 12,
   "metadata": {},
   "outputs": [],
   "source": [
    "kmin = -kmax\n",
    "dk_test = (kmax-kmin)/(n_mesh-1)"
   ]
  },
  {
   "cell_type": "code",
   "execution_count": 13,
   "metadata": {},
   "outputs": [
    {
     "data": {
      "text/plain": [
       "2.0"
      ]
     },
     "execution_count": 13,
     "metadata": {},
     "output_type": "execute_result"
    }
   ],
   "source": [
    "dk_test"
   ]
  },
  {
   "cell_type": "code",
   "execution_count": 14,
   "metadata": {},
   "outputs": [
    {
     "data": {
      "text/plain": [
       "2.0"
      ]
     },
     "execution_count": 14,
     "metadata": {},
     "output_type": "execute_result"
    }
   ],
   "source": [
    "dk"
   ]
  },
  {
   "cell_type": "code",
   "execution_count": 15,
   "metadata": {},
   "outputs": [
    {
     "data": {
      "text/plain": [
       "3.141592653589793"
      ]
     },
     "execution_count": 15,
     "metadata": {},
     "output_type": "execute_result"
    }
   ],
   "source": [
    "np.pi"
   ]
  },
  {
   "cell_type": "markdown",
   "metadata": {},
   "source": [
    "## Value order in 2D arrays"
   ]
  },
  {
   "cell_type": "code",
   "execution_count": 16,
   "metadata": {},
   "outputs": [],
   "source": [
    "Kx,Ky = np.meshgrid(kx,kx)"
   ]
  },
  {
   "cell_type": "code",
   "execution_count": 17,
   "metadata": {},
   "outputs": [
    {
     "data": {
      "text/plain": [
       "array([[-5., -3., -1.,  1.,  3.,  5.],\n",
       "       [-5., -3., -1.,  1.,  3.,  5.],\n",
       "       [-5., -3., -1.,  1.,  3.,  5.],\n",
       "       [-5., -3., -1.,  1.,  3.,  5.],\n",
       "       [-5., -3., -1.,  1.,  3.,  5.],\n",
       "       [-5., -3., -1.,  1.,  3.,  5.]])"
      ]
     },
     "execution_count": 17,
     "metadata": {},
     "output_type": "execute_result"
    }
   ],
   "source": [
    "Kx"
   ]
  },
  {
   "cell_type": "code",
   "execution_count": 18,
   "metadata": {},
   "outputs": [
    {
     "data": {
      "text/plain": [
       "array([[-5., -5., -5., -5., -5., -5.],\n",
       "       [-3., -3., -3., -3., -3., -3.],\n",
       "       [-1., -1., -1., -1., -1., -1.],\n",
       "       [ 1.,  1.,  1.,  1.,  1.,  1.],\n",
       "       [ 3.,  3.,  3.,  3.,  3.,  3.],\n",
       "       [ 5.,  5.,  5.,  5.,  5.,  5.]])"
      ]
     },
     "execution_count": 18,
     "metadata": {},
     "output_type": "execute_result"
    }
   ],
   "source": [
    "Ky"
   ]
  },
  {
   "cell_type": "code",
   "execution_count": 19,
   "metadata": {},
   "outputs": [],
   "source": [
    "kx_flat = Kx.flatten(order='C')\n",
    "ky_flat = Ky.flatten(order='C')"
   ]
  },
  {
   "cell_type": "markdown",
   "metadata": {},
   "source": [
    "## Test build potential Fortran (f2py)"
   ]
  },
  {
   "cell_type": "code",
   "execution_count": 20,
   "metadata": {},
   "outputs": [
    {
     "name": "stdout",
     "output_type": "stream",
     "text": [
      "v = build_potential_matrix(kx_flat,ky_flat,n_sub,eps,r_0,[n_total])\n",
      "\n",
      "Wrapper for ``build_potential_matrix``.\n",
      "\n",
      "Parameters\n",
      "----------\n",
      "kx_flat : input rank-1 array('f') with bounds (n_total)\n",
      "ky_flat : input rank-1 array('f') with bounds (n_total)\n",
      "n_sub : input int\n",
      "eps : input float\n",
      "r_0 : input float\n",
      "\n",
      "Other Parameters\n",
      "----------------\n",
      "n_total : input int, optional\n",
      "    Default: len(kx_flat)\n",
      "\n",
      "Returns\n",
      "-------\n",
      "v : rank-2 array('f') with bounds (n_total,n_total)\n",
      "\n"
     ]
    }
   ],
   "source": [
    "print(rytova_keldysh.build_potential_matrix.__doc__)"
   ]
  },
  {
   "cell_type": "code",
   "execution_count": 27,
   "metadata": {},
   "outputs": [],
   "source": [
    "V = rytova_keldysh.build_potential_matrix(kx_flat, ky_flat, n_sub,eps, r_0)"
   ]
  },
  {
   "cell_type": "code",
   "execution_count": 28,
   "metadata": {},
   "outputs": [
    {
     "data": {
      "text/plain": [
       "(36, 36)"
      ]
     },
     "execution_count": 28,
     "metadata": {},
     "output_type": "execute_result"
    }
   ],
   "source": [
    "V.shape"
   ]
  },
  {
   "cell_type": "code",
   "execution_count": 34,
   "metadata": {},
   "outputs": [
    {
     "data": {
      "image/png": "[encoded data removed]",
      "text/plain": [
       "<Figure size 720x720 with 2 Axes>"
      ]
     },
     "metadata": {
      "needs_background": "light"
     },
     "output_type": "display_data"
    }
   ],
   "source": [
    "fig, ax = plt.subplots(figsize=(10,10))\n",
    "map_color = ax.imshow(V)\n",
    "fig.colorbar(map_color,ax=ax)\n",
    "plt.show()"
   ]
  },
  {
   "cell_type": "markdown",
   "metadata": {},
   "source": [
    "## Convert the matrix into sparse"
   ]
  },
  {
   "cell_type": "code",
   "execution_count": 36,
   "metadata": {},
   "outputs": [],
   "source": [
    "sparseV = sparse.csr_matrix(V)"
   ]
  },
  {
   "cell_type": "code",
   "execution_count": 40,
   "metadata": {},
   "outputs": [],
   "source": [
    "Values, Vectors = eigsh(V,k=4,which='SA')"
   ]
  },
  {
   "cell_type": "code",
   "execution_count": 24,
   "metadata": {},
   "outputs": [],
   "source": [
    "VMatrix_orig = bse.potential_matrix(V_orig, Kx, Ky, n_sub, submesh_radius=200)"
   ]
  },
  {
   "cell_type": "code",
   "execution_count": 25,
   "metadata": {},
   "outputs": [
    {
     "data": {
      "text/plain": [
       "(36, 36)"
      ]
     },
     "execution_count": 25,
     "metadata": {},
     "output_type": "execute_result"
    }
   ],
   "source": [
    "VMatrix_orig.shape"
   ]
  },
  {
   "cell_type": "code",
   "execution_count": 26,
   "metadata": {},
   "outputs": [
    {
     "data": {
      "text/plain": [
       "-833.3929857781503"
      ]
     },
     "execution_count": 26,
     "metadata": {},
     "output_type": "execute_result"
    }
   ],
   "source": [
    "np.max(VMatrix_orig-V)"
   ]
  },
  {
   "cell_type": "code",
   "execution_count": null,
   "metadata": {},
   "outputs": [],
   "source": []
  }
 ],
 "metadata": {
  "kernelspec": {
   "display_name": "python (anaconda3)",
   "language": "python",
   "name": "python3"
  },
  "language_info": {
   "codemirror_mode": {
    "name": "ipython",
    "version": 3
   },
   "file_extension": ".py",
   "mimetype": "text/x-python",
   "name": "python",
   "nbconvert_exporter": "python",
   "pygments_lexer": "ipython3",
   "version": "3.7.6"
  },
  "toc": {
   "base_numbering": 1,
   "nav_menu": {},
   "number_sections": false,
   "sideBar": true,
   "skip_h1_title": false,
   "title_cell": "Table of Contents",
   "title_sidebar": "Contents",
   "toc_cell": false,
   "toc_position": {},
   "toc_section_display": true,
   "toc_window_display": true
  }
 },
 "nbformat": 4,
 "nbformat_minor": 4
}
